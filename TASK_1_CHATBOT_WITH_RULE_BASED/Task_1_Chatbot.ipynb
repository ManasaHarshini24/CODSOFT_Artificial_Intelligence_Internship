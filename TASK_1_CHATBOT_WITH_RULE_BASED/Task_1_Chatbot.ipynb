{
  "nbformat": 4,
  "nbformat_minor": 0,
  "metadata": {
    "colab": {
      "provenance": []
    },
    "kernelspec": {
      "name": "python3",
      "display_name": "Python 3"
    },
    "language_info": {
      "name": "python"
    }
  },
  "cells": [
    {
      "cell_type": "markdown",
      "source": [
        "# **TASK - 1: CHATBOT WITH RULE-BASED RESPONSES**\n",
        "Build a simple chatbot that responds to user inputs based on predefined rules. Use if-else statements or pattern matching techniques to identify user queries and provide appropriate responses. This will give you a basic understanding of natural language processing and conversation flow."
      ],
      "metadata": {
        "id": "rGZtv2BKr6AH"
      }
    },
    {
      "cell_type": "code",
      "execution_count": 2,
      "metadata": {
        "id": "X7xDce7Hq3fA"
      },
      "outputs": [],
      "source": [
        "# Dictionary storing predefined user inputs and corresponding chatbot responses\n",
        "data = {\n",
        "    \"hi\": \"Hi there! I'm a friendly chatbot here to assist you?\",\n",
        "    \"hello\": \"Hello! How can I help you today?\",\n",
        "    \"hey\": \"Hey! Nice to see you. How are you doing?\",\n",
        "    \"good morning\": \"Good morning! Hope you have a wonderful day ahead!\",\n",
        "    \"good afternoon\": \"Good afternoon! How’s your day going so far?\",\n",
        "    \"good evening\": \"Good evening! What are you up to?\",\n",
        "    \"who are you\": \"I'm just a AI chatbot, but I'm here to assist you.\",\n",
        "    \"what is your name\": \"I'm just a AI chatbot, so I don't have a name, but you can call me ChatBot.\",\n",
        "    \"where are you from\":\"I'm from the digital world,always ready to chat!\",\n",
        "    \"who created you\": \"I was created by a programmer to chat and help users like you!\",\n",
        "    \"who made you\": \"I was built by a developer to assist and chat with people.\",\n",
        "    \"what can you do\": \"I can chat with you, answer questions, and make your day better!\",\n",
        "    \"tell me a fun fact\": \"Did you know? Honey never spoils — archaeologists found edible honey in ancient Egyptian tombs!\",\n",
        "    \"what is your purpose\": \"My purpose is to assist, chat, and make your digital experience better!\",\n",
        "    \"thank you\": \"You're very welcome! Always happy to help!\",\n",
        "    \"thanks\": \"No problem! Glad I could assist.\",\n",
        "    \"okay\": \"Alright! Let me know if there’s anything else you’d like to talk about.\",\n",
        "    \"ok\": \"Cool! What else can I do for you?\",\n",
        "    \"bye\": \"Bye! Take care and have a great day!\",\n",
        "    \"goodbye\": \"Goodbye! Hope to chat with you again soon!\",\n",
        "    \"see you later\": \"See you later! Don’t forget to come back and chat!\",\n",
        "    \"can you help me\": \"Of course! What do you need help with?\",\n",
        "    \"tell me a joke\": \"Why do programmers prefer dark mode? Because light attracts bugs!\",\n",
        "    \"give me motivation\": \"Believe in yourself. Every expert was once a beginner!\",\n",
        "    \"tell me a quote\": \"“Code is like humor. When you have to explain it, it’s bad.” – Cory House\",\n",
        "    \"what is programming\": \"Programming is the process of writing instructions that a computer can understand and execute.\",\n",
        "    \"what is python\": \"Python is a popular, high-level programming language known for its simplicity and readability.\",\n",
        "    \"who invented python\": \"Python was created by Guido van Rossum in 1991.\",\n",
        "    \"what is java\": \"Java is a high-level, object-oriented programming language developed by Sun Microsystems (now owned by Oracle).\",\n",
        "    \"difference between python and java\": \"Python is dynamically typed and easier to learn, while Java is statically typed and often used for enterprise applications.\",\n",
        "    \"what is c language\": \"C is a powerful general-purpose programming language that is the foundation for many others like C++, Java, and Python.\",\n",
        "    \"what is c++\": \"C++ is an extension of C that supports object-oriented programming features like classes and inheritance.\",\n",
        "    \"what is javascript\": \"JavaScript is a scripting language used mainly for web development to make websites interactive.\",\n",
        "    \"what is html\": \"HTML stands for HyperText Markup Language. It’s used to create the structure of web pages.\",\n",
        "    \"what is css\": \"CSS stands for Cascading Style Sheets. It’s used to style and layout web pages.\",\n",
        "    \"what is sql\": \"SQL stands for Structured Query Language. It’s used to manage and manipulate data in databases.\",\n",
        "    \"what is database\": \"A database is an organized collection of data that can be accessed, managed, and updated easily.\",\n",
        "    \"what is ai\": \"AI stands for Artificial Intelligence — it means making machines think and learn like humans.\",\n",
        "    \"what is machine learning\": \"Machine Learning is a part of AI that helps systems learn from data and improve over time.\",\n",
        "}\n",
        "\n",
        "\n",
        "# Function to get a response from the chatbot\n",
        "def get_response(user_input):\n",
        "\n",
        "    for pattern, response in data.items():\n",
        "        # Check if the user's message contains one of the known patterns\n",
        "        if pattern in user_input:\n",
        "            return response\n",
        "    # Default response if no pattern matches\n",
        "    return \"I'm sorry, I didn't understand that. Can you please rephrase your sentence?\"\n",
        "\n",
        "# Initial greeting message from the chatbot\n",
        "print(\"AI Chatbot: Hi! I'm a simple AI chatbot, I'm here to assist you!\")\n",
        "\n",
        "# Infinite loop to keep the chatbot running\n",
        "while True:\n",
        "    # Take user input\n",
        "    user_input = input(\"Me: \").lower()  # convert to lowercase for easier matching\n",
        "\n",
        "    # Exit condition: if the user says 'bye'\n",
        "    if user_input == 'bye':\n",
        "        print(\"AI Chatbot: Goodbye! Have a great day!\")\n",
        "        break  # stop the loop and end the program\n",
        "\n",
        "    # Get the chatbot's response\n",
        "    response = get_response(user_input)\n",
        "\n",
        "    # Display the response\n",
        "    print(\"AI Chatbot:\", response)\n"
      ]
    }
  ]
}